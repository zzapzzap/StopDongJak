{
  "nbformat": 4,
  "nbformat_minor": 0,
  "metadata": {
    "colab": {
      "name": "Sort_Q2_가장_큰_수(zzapzzap).ipynb",
      "provenance": [],
      "authorship_tag": "ABX9TyMAMTXzgQhn0K4j3eWyaZhj",
      "include_colab_link": true
    },
    "kernelspec": {
      "name": "python3",
      "display_name": "Python 3"
    }
  },
  "cells": [
    {
      "cell_type": "markdown",
      "metadata": {
        "id": "view-in-github",
        "colab_type": "text"
      },
      "source": [
        "<a href=\"https://colab.research.google.com/github/zzapzzap/StopDongJak/blob/master/sort/Sort_Q2_%EA%B0%80%EC%9E%A5_%ED%81%B0_%EC%88%98(zzapzzap).ipynb\" target=\"_parent\"><img src=\"https://colab.research.google.com/assets/colab-badge.svg\" alt=\"Open In Colab\"/></a>"
      ]
    },
    {
      "cell_type": "code",
      "metadata": {
        "id": "A8jcucL0sSA3",
        "colab_type": "code",
        "colab": {
          "base_uri": "https://localhost:8080/",
          "height": 34
        },
        "outputId": "9e2f873e-c456-42c3-db34-0e8a902555f3"
      },
      "source": [
        "def partition(seq, start, end):\n",
        "    pivot = seq[start]\n",
        "    left = start + 1\n",
        "    right = end\n",
        "    done = False\n",
        "    while not done:\n",
        "        while (left <= right) and (pivot + seq[left] <= seq[left] + pivot):\n",
        "            left +=1\n",
        "        while (left <= right) and (seq[right] + pivot <= pivot + seq[right]):\n",
        "            right -=1\n",
        "        if right < left:\n",
        "            done = True\n",
        "        else:\n",
        "            seq[left], seq[right] = seq[right], seq[left]\n",
        "    seq[start], seq[right] = seq[right], seq[start]\n",
        "    # print(\"right : {}\".format(seq[:right]))\n",
        "    # print(\"Pivot : {}\".format(seq[right]))\n",
        "    # print(\"left : {}\".format(seq[right + 1:]))\n",
        "    # print(\"\")\n",
        "\n",
        "    return right\n",
        "\n",
        "def quick_sort(seq, start, end):\n",
        "    if start < end:\n",
        "        pivot = partition(seq, start, end)\n",
        "        quick_sort(seq, start , pivot -1)\n",
        "        quick_sort(seq, pivot + 1, end)\n",
        "    return seq\n",
        "\n",
        "def solution(numbers):\n",
        "    numbers = list(map(str, numbers))\n",
        "    # answer = max(map(''.join, itertools.permutations(numbers)))\n",
        "    answer = str(int(''.join(quick_sort(numbers, 0, len(numbers) - 1))))\n",
        "    return answer\n",
        "solution([2,20,222,23,21])\n"
      ],
      "execution_count": 66,
      "outputs": [
        {
          "output_type": "execute_result",
          "data": {
            "text/plain": [
              "'2322222120'"
            ]
          },
          "metadata": {
            "tags": []
          },
          "execution_count": 66
        }
      ]
    }
  ]
}